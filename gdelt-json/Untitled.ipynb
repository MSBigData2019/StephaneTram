{
 "cells": [
  {
   "cell_type": "code",
   "execution_count": 7,
   "metadata": {},
   "outputs": [],
   "source": [
    "import pandas as pd\n",
    "from multiprocessing import Pool\n",
    "import zipfile\n",
    "import requests\n",
    "import io\n",
    "import os\n",
    "from functools import partial\n",
    "import sys\n",
    "import boto3\n",
    "import pymongo\n",
    "from ast import literal_eval\n",
    "from pymongo import MongoClient\n",
    "import pprint\n",
    "import pdb\n",
    "\n",
    "#sys.argv[1] = '010-mentions-translation.csv'\n",
    "#sys.argv[2] = 'mentions-header.txt'\n",
    "#sys.argv[3] = 'mention-json-cols.txt'\n",
    "\n",
    "\n",
    "filename = '070-mentions-translation.csv'\n",
    "filelist = list(filter(lambda x:x!='',open(filename,'r').read().split('\\n')))\n",
    "headers = open('mentions-header.txt','r').read().split()\n",
    "collist = open('mentions-json-cols.txt','r').read().split()"
   ]
  },
  {
   "cell_type": "code",
   "execution_count": 9,
   "metadata": {},
   "outputs": [],
   "source": [
    "def csvToPd(headers,collist,fileurl):\n",
    "\n",
    "    z = zipfile.ZipFile(io.BytesIO(requests.get(fileurl).content))\n",
    "    df = pd.read_csv(z.open(fileurl.split('/')[-1][:-4]),delimiter='\\t',names=headers,index_col=False).fillna('')[collist]\n",
    "    df['MentionDocTranslationInfo'].replace('','srclc:eng')\n",
    "    df['MentionDocTranslationInfo']=df['MentionDocTranslationInfo'].str[6:9]\n",
    "    df = df.drop_duplicates()\n",
    "\n",
    "    return df\n",
    "\n",
    "p = Pool(10)\n",
    "res = p.map(partial(csvToPd,headers,collist),filelist)\n",
    "res = pd.concat(res).reset_index().drop('index',axis=1)\n",
    "\n",
    "js = res.groupby('GlobalEventID',as_index='GlobalEventID').apply(lambda x:x.to_json(orient='records'))\n",
    "js = js.apply(lambda x: literal_eval(x[1:-1]))"
   ]
  },
  {
   "cell_type": "code",
   "execution_count": 10,
   "metadata": {},
   "outputs": [],
   "source": [
    "js.to_json('070.json',orient='records')"
   ]
  },
  {
   "cell_type": "code",
   "execution_count": 6,
   "metadata": {},
   "outputs": [],
   "source": [
    "js.to_json('010.json',orient='records')"
   ]
  },
  {
   "cell_type": "code",
   "execution_count": null,
   "metadata": {},
   "outputs": [],
   "source": []
  }
 ],
 "metadata": {
  "kernelspec": {
   "display_name": "Python 3",
   "language": "python",
   "name": "python3"
  },
  "language_info": {
   "codemirror_mode": {
    "name": "ipython",
    "version": 3
   },
   "file_extension": ".py",
   "mimetype": "text/x-python",
   "name": "python",
   "nbconvert_exporter": "python",
   "pygments_lexer": "ipython3",
   "version": "3.6.5"
  }
 },
 "nbformat": 4,
 "nbformat_minor": 2
}
